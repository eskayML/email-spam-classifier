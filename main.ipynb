{
 "cells": [
  {
   "cell_type": "code",
   "execution_count": 1,
   "id": "0fcca0a1",
   "metadata": {
    "ExecuteTime": {
     "end_time": "2022-09-28T12:28:49.982391Z",
     "start_time": "2022-09-28T12:28:41.944575Z"
    }
   },
   "outputs": [],
   "source": [
    "import pandas as pd\n",
    "data = pd.read_csv('spam_dataset.csv')"
   ]
  },
  {
   "cell_type": "code",
   "execution_count": 2,
   "id": "dfa39afb",
   "metadata": {
    "ExecuteTime": {
     "end_time": "2022-09-28T12:28:50.165020Z",
     "start_time": "2022-09-28T12:28:49.982391Z"
    },
    "scrolled": true
   },
   "outputs": [
    {
     "data": {
      "text/html": [
       "<div>\n",
       "<style scoped>\n",
       "    .dataframe tbody tr th:only-of-type {\n",
       "        vertical-align: middle;\n",
       "    }\n",
       "\n",
       "    .dataframe tbody tr th {\n",
       "        vertical-align: top;\n",
       "    }\n",
       "\n",
       "    .dataframe thead th {\n",
       "        text-align: right;\n",
       "    }\n",
       "</style>\n",
       "<table border=\"1\" class=\"dataframe\">\n",
       "  <thead>\n",
       "    <tr style=\"text-align: right;\">\n",
       "      <th></th>\n",
       "      <th>v1</th>\n",
       "      <th>v2</th>\n",
       "      <th>Unnamed: 2</th>\n",
       "      <th>Unnamed: 3</th>\n",
       "      <th>Unnamed: 4</th>\n",
       "    </tr>\n",
       "  </thead>\n",
       "  <tbody>\n",
       "    <tr>\n",
       "      <th>0</th>\n",
       "      <td>ham</td>\n",
       "      <td>Go until jurong point, crazy.. Available only ...</td>\n",
       "      <td>NaN</td>\n",
       "      <td>NaN</td>\n",
       "      <td>NaN</td>\n",
       "    </tr>\n",
       "    <tr>\n",
       "      <th>1</th>\n",
       "      <td>ham</td>\n",
       "      <td>Ok lar... Joking wif u oni...</td>\n",
       "      <td>NaN</td>\n",
       "      <td>NaN</td>\n",
       "      <td>NaN</td>\n",
       "    </tr>\n",
       "    <tr>\n",
       "      <th>2</th>\n",
       "      <td>spam</td>\n",
       "      <td>Free entry in 2 a wkly comp to win FA Cup fina...</td>\n",
       "      <td>NaN</td>\n",
       "      <td>NaN</td>\n",
       "      <td>NaN</td>\n",
       "    </tr>\n",
       "    <tr>\n",
       "      <th>3</th>\n",
       "      <td>ham</td>\n",
       "      <td>U dun say so early hor... U c already then say...</td>\n",
       "      <td>NaN</td>\n",
       "      <td>NaN</td>\n",
       "      <td>NaN</td>\n",
       "    </tr>\n",
       "    <tr>\n",
       "      <th>4</th>\n",
       "      <td>ham</td>\n",
       "      <td>Nah I don't think he goes to usf, he lives aro...</td>\n",
       "      <td>NaN</td>\n",
       "      <td>NaN</td>\n",
       "      <td>NaN</td>\n",
       "    </tr>\n",
       "  </tbody>\n",
       "</table>\n",
       "</div>"
      ],
      "text/plain": [
       "     v1                                                 v2 Unnamed: 2  \\\n",
       "0   ham  Go until jurong point, crazy.. Available only ...        NaN   \n",
       "1   ham                      Ok lar... Joking wif u oni...        NaN   \n",
       "2  spam  Free entry in 2 a wkly comp to win FA Cup fina...        NaN   \n",
       "3   ham  U dun say so early hor... U c already then say...        NaN   \n",
       "4   ham  Nah I don't think he goes to usf, he lives aro...        NaN   \n",
       "\n",
       "  Unnamed: 3 Unnamed: 4  \n",
       "0        NaN        NaN  \n",
       "1        NaN        NaN  \n",
       "2        NaN        NaN  \n",
       "3        NaN        NaN  \n",
       "4        NaN        NaN  "
      ]
     },
     "execution_count": 2,
     "metadata": {},
     "output_type": "execute_result"
    }
   ],
   "source": [
    "data.head()"
   ]
  },
  {
   "cell_type": "markdown",
   "id": "5bddd9ca",
   "metadata": {},
   "source": [
    "Remove the last three columns "
   ]
  },
  {
   "cell_type": "code",
   "execution_count": 3,
   "id": "7df7a2d9",
   "metadata": {
    "ExecuteTime": {
     "end_time": "2022-09-28T12:28:50.212974Z",
     "start_time": "2022-09-28T12:28:50.172980Z"
    }
   },
   "outputs": [],
   "source": [
    "data = data[['v1','v2']]"
   ]
  },
  {
   "cell_type": "code",
   "execution_count": 4,
   "id": "69eac420",
   "metadata": {
    "ExecuteTime": {
     "end_time": "2022-09-28T12:29:52.621031Z",
     "start_time": "2022-09-28T12:29:52.605020Z"
    }
   },
   "outputs": [],
   "source": [
    "data.rename(columns={'v1':'label','v2':'text'}, inplace=True)"
   ]
  },
  {
   "cell_type": "code",
   "execution_count": 5,
   "id": "3ba7a909",
   "metadata": {
    "ExecuteTime": {
     "end_time": "2022-09-28T12:30:01.963330Z",
     "start_time": "2022-09-28T12:30:01.875316Z"
    }
   },
   "outputs": [
    {
     "name": "stdout",
     "output_type": "stream",
     "text": [
      "<class 'pandas.core.frame.DataFrame'>\n",
      "RangeIndex: 5572 entries, 0 to 5571\n",
      "Data columns (total 2 columns):\n",
      " #   Column  Non-Null Count  Dtype \n",
      "---  ------  --------------  ----- \n",
      " 0   label   5572 non-null   object\n",
      " 1   text    5572 non-null   object\n",
      "dtypes: object(2)\n",
      "memory usage: 87.2+ KB\n"
     ]
    }
   ],
   "source": [
    "data.info()"
   ]
  },
  {
   "cell_type": "code",
   "execution_count": 6,
   "id": "07907468",
   "metadata": {
    "ExecuteTime": {
     "end_time": "2022-09-28T12:30:34.194781Z",
     "start_time": "2022-09-28T12:30:34.170787Z"
    }
   },
   "outputs": [
    {
     "data": {
      "text/plain": [
       "ham     0.865937\n",
       "spam    0.134063\n",
       "Name: label, dtype: float64"
      ]
     },
     "execution_count": 6,
     "metadata": {},
     "output_type": "execute_result"
    }
   ],
   "source": [
    "data.label.value_counts(normalize=True)"
   ]
  },
  {
   "cell_type": "markdown",
   "id": "3af10394",
   "metadata": {},
   "source": [
    "We have about 87% of the data to be ham and about 13% being spam, so there is a data imbalance"
   ]
  },
  {
   "cell_type": "code",
   "execution_count": 7,
   "id": "f603e3dd",
   "metadata": {
    "ExecuteTime": {
     "end_time": "2022-09-28T12:34:00.350976Z",
     "start_time": "2022-09-28T12:34:00.334969Z"
    }
   },
   "outputs": [],
   "source": [
    "X ,y = data.text,data.label\n"
   ]
  },
  {
   "cell_type": "code",
   "execution_count": 8,
   "id": "2b09572a",
   "metadata": {
    "ExecuteTime": {
     "end_time": "2022-09-28T12:34:18.679785Z",
     "start_time": "2022-09-28T12:34:18.607760Z"
    }
   },
   "outputs": [],
   "source": [
    "from sklearn.model_selection import train_test_split\n",
    "X_train,X_test,y_train,y_test = train_test_split(X,y,test_size = .2, random_state=2022)"
   ]
  },
  {
   "cell_type": "markdown",
   "id": "105a15fe",
   "metadata": {},
   "source": [
    "Splitting the data into parts for training and testing"
   ]
  },
  {
   "cell_type": "code",
   "execution_count": 11,
   "id": "b481203c",
   "metadata": {
    "ExecuteTime": {
     "end_time": "2022-09-28T12:38:10.292972Z",
     "start_time": "2022-09-28T12:38:10.276948Z"
    }
   },
   "outputs": [],
   "source": [
    "from sklearn.feature_extraction.text import CountVectorizer\n",
    "from sklearn import svm ,ensemble,pipeline\n",
    "\n",
    "model = pipeline.Pipeline(\n",
    "[\n",
    "    ('tokenizer',CountVectorizer()),\n",
    "    ('estimator', svm.SVC())\n",
    "])\n",
    "\n",
    "\n"
   ]
  },
  {
   "cell_type": "code",
   "execution_count": 12,
   "id": "a1dcdbb8",
   "metadata": {
    "ExecuteTime": {
     "end_time": "2022-09-28T12:38:14.162086Z",
     "start_time": "2022-09-28T12:38:11.063296Z"
    }
   },
   "outputs": [
    {
     "data": {
      "text/plain": [
       "0.9829596412556054"
      ]
     },
     "execution_count": 12,
     "metadata": {},
     "output_type": "execute_result"
    }
   ],
   "source": [
    "model.fit(X_train,y_train) # fitting the model to the training data\n",
    "model.score(X_test,y_test)"
   ]
  },
  {
   "cell_type": "code",
   "execution_count": 15,
   "id": "69a331e9",
   "metadata": {
    "ExecuteTime": {
     "end_time": "2022-09-28T12:41:30.211182Z",
     "start_time": "2022-09-28T12:41:30.187139Z"
    }
   },
   "outputs": [
    {
     "name": "stdout",
     "output_type": "stream",
     "text": [
      "['spam']\n"
     ]
    }
   ],
   "source": [
    "print(model.predict(['Free entry in 2 a wkly comp to win FA Cup enter this code']))"
   ]
  },
  {
   "cell_type": "code",
   "execution_count": null,
   "id": "0ddd9b70",
   "metadata": {},
   "outputs": [],
   "source": []
  }
 ],
 "metadata": {
  "kernelspec": {
   "display_name": "Python 3.9.6 64-bit",
   "language": "python",
   "name": "python396jvsc74a57bd0342aa5655132cbf71a715f798c1954c8e10fd62576e079eb1568ff3b5ac83c42"
  },
  "language_info": {
   "codemirror_mode": {
    "name": "ipython",
    "version": 3
   },
   "file_extension": ".py",
   "mimetype": "text/x-python",
   "name": "python",
   "nbconvert_exporter": "python",
   "pygments_lexer": "ipython3",
   "version": "3.9.6"
  }
 },
 "nbformat": 4,
 "nbformat_minor": 5
}
